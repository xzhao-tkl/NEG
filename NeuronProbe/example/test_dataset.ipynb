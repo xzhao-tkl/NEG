{
 "cells": [
  {
   "cell_type": "code",
   "execution_count": 1,
   "metadata": {},
   "outputs": [
    {
     "name": "stderr",
     "output_type": "stream",
     "text": [
      "Some datasets params were ignored: ['dataset_info']. Make sure to use only valid params for the dataset builder and to have a up-to-date version of the `datasets` library.\n",
      "Some datasets params were ignored: ['dataset_info']. Make sure to use only valid params for the dataset builder and to have a up-to-date version of the `datasets` library.\n"
     ]
    },
    {
     "data": {
      "application/vnd.jupyter.widget-view+json": {
       "model_id": "4ca375c3050c432f996aef5a1cd11327",
       "version_major": 2,
       "version_minor": 0
      },
      "text/plain": [
       "train.json:   0%|          | 0.00/914k [00:00<?, ?B/s]"
      ]
     },
     "metadata": {},
     "output_type": "display_data"
    },
    {
     "data": {
      "application/vnd.jupyter.widget-view+json": {
       "model_id": "4424f7b4e5db43ac959f2b6d684a67ab",
       "version_major": 2,
       "version_minor": 0
      },
      "text/plain": [
       "valid.json:   0%|          | 0.00/152k [00:00<?, ?B/s]"
      ]
     },
     "metadata": {},
     "output_type": "display_data"
    },
    {
     "data": {
      "application/vnd.jupyter.widget-view+json": {
       "model_id": "8a4a27e2ffb54cd2b1e11002c1ffd2e5",
       "version_major": 2,
       "version_minor": 0
      },
      "text/plain": [
       "Generating train split:   0%|          | 0/6000 [00:00<?, ? examples/s]"
      ]
     },
     "metadata": {},
     "output_type": "display_data"
    },
    {
     "data": {
      "application/vnd.jupyter.widget-view+json": {
       "model_id": "ce6da259e3274262ada8082617b6ee39",
       "version_major": 2,
       "version_minor": 0
      },
      "text/plain": [
       "Generating validation split:   0%|          | 0/1000 [00:00<?, ? examples/s]"
      ]
     },
     "metadata": {},
     "output_type": "display_data"
    },
    {
     "data": {
      "application/vnd.jupyter.widget-view+json": {
       "model_id": "1e49014dfb1c416da7badb09fd8257cb",
       "version_major": 2,
       "version_minor": 0
      },
      "text/plain": [
       "Generating test split:   0%|          | 0/1000 [00:00<?, ? examples/s]"
      ]
     },
     "metadata": {},
     "output_type": "display_data"
    },
    {
     "data": {
      "application/vnd.jupyter.widget-view+json": {
       "model_id": "a1a42ad3e95e449a8986a9f5e1477555",
       "version_major": 2,
       "version_minor": 0
      },
      "text/plain": [
       "Map:   0%|          | 0/6000 [00:00<?, ? examples/s]"
      ]
     },
     "metadata": {},
     "output_type": "display_data"
    },
    {
     "data": {
      "application/vnd.jupyter.widget-view+json": {
       "model_id": "a92e30f24d3f4455b953740359cf36c2",
       "version_major": 2,
       "version_minor": 0
      },
      "text/plain": [
       "Map:   0%|          | 0/1000 [00:00<?, ? examples/s]"
      ]
     },
     "metadata": {},
     "output_type": "display_data"
    },
    {
     "data": {
      "application/vnd.jupyter.widget-view+json": {
       "model_id": "69014da6c9bd48e3b87c120d19b21524",
       "version_major": 2,
       "version_minor": 0
      },
      "text/plain": [
       "Map:   0%|          | 0/1000 [00:00<?, ? examples/s]"
      ]
     },
     "metadata": {},
     "output_type": "display_data"
    },
    {
     "data": {
      "application/vnd.jupyter.widget-view+json": {
       "model_id": "c4cf7625010f40efbb95791e052bae53",
       "version_major": 2,
       "version_minor": 0
      },
      "text/plain": [
       "Filter:   0%|          | 0/6000 [00:00<?, ? examples/s]"
      ]
     },
     "metadata": {},
     "output_type": "display_data"
    },
    {
     "data": {
      "application/vnd.jupyter.widget-view+json": {
       "model_id": "98c5a232f9ad4527b2159481650b0c36",
       "version_major": 2,
       "version_minor": 0
      },
      "text/plain": [
       "Filter:   0%|          | 0/6000 [00:00<?, ? examples/s]"
      ]
     },
     "metadata": {},
     "output_type": "display_data"
    },
    {
     "data": {
      "application/vnd.jupyter.widget-view+json": {
       "model_id": "7f0596872abb48d7807c7fd05bbe01b9",
       "version_major": 2,
       "version_minor": 0
      },
      "text/plain": [
       "Filter:   0%|          | 0/6000 [00:00<?, ? examples/s]"
      ]
     },
     "metadata": {},
     "output_type": "display_data"
    },
    {
     "data": {
      "application/vnd.jupyter.widget-view+json": {
       "model_id": "f978df4cf68a4880ab9946618dec1947",
       "version_major": 2,
       "version_minor": 0
      },
      "text/plain": [
       "Filter:   0%|          | 0/6000 [00:00<?, ? examples/s]"
      ]
     },
     "metadata": {},
     "output_type": "display_data"
    },
    {
     "data": {
      "application/vnd.jupyter.widget-view+json": {
       "model_id": "bc40b76b073740cfb71fde957bbf5f6c",
       "version_major": 2,
       "version_minor": 0
      },
      "text/plain": [
       "Map:   0%|          | 0/6000 [00:00<?, ? examples/s]"
      ]
     },
     "metadata": {},
     "output_type": "display_data"
    },
    {
     "data": {
      "application/vnd.jupyter.widget-view+json": {
       "model_id": "02cd613b7a8d43fba089ae9b1bf2e757",
       "version_major": 2,
       "version_minor": 0
      },
      "text/plain": [
       "Map:   0%|          | 0/1000 [00:00<?, ? examples/s]"
      ]
     },
     "metadata": {},
     "output_type": "display_data"
    },
    {
     "data": {
      "application/vnd.jupyter.widget-view+json": {
       "model_id": "06ae59a8f44f4e0a8fbc73bcc075cb6e",
       "version_major": 2,
       "version_minor": 0
      },
      "text/plain": [
       "Map:   0%|          | 0/1000 [00:00<?, ? examples/s]"
      ]
     },
     "metadata": {},
     "output_type": "display_data"
    },
    {
     "data": {
      "application/vnd.jupyter.widget-view+json": {
       "model_id": "a16271049387417fbdea4679c1970658",
       "version_major": 2,
       "version_minor": 0
      },
      "text/plain": [
       "Saving the dataset (0/1 shards):   0%|          | 0/6000 [00:00<?, ? examples/s]"
      ]
     },
     "metadata": {},
     "output_type": "display_data"
    },
    {
     "data": {
      "application/vnd.jupyter.widget-view+json": {
       "model_id": "c3b59d8ed28e4781bade206707ddf9a3",
       "version_major": 2,
       "version_minor": 0
      },
      "text/plain": [
       "Saving the dataset (0/1 shards):   0%|          | 0/1000 [00:00<?, ? examples/s]"
      ]
     },
     "metadata": {},
     "output_type": "display_data"
    },
    {
     "data": {
      "application/vnd.jupyter.widget-view+json": {
       "model_id": "82705099578b45d7b443b7907a79395f",
       "version_major": 2,
       "version_minor": 0
      },
      "text/plain": [
       "Saving the dataset (0/1 shards):   0%|          | 0/1000 [00:00<?, ? examples/s]"
      ]
     },
     "metadata": {},
     "output_type": "display_data"
    },
    {
     "name": "stderr",
     "output_type": "stream",
     "text": [
      "2025-06-01 14:19:05,383 - MyriadLAMADataset - INFO - --------------------Dataset information-----------------------\n",
      "2025-06-01 14:19:05,390 - MyriadLAMADataset - INFO - Train dataset: Counter({'d': 1500, 'c': 1500, 'b': 1500, 'a': 1500})\n",
      "2025-06-01 14:19:05,392 - MyriadLAMADataset - INFO - Valid dataset: Counter({'d': 250, 'a': 250, 'c': 250, 'b': 250})\n",
      "2025-06-01 14:19:05,390 - MyriadLAMADataset - INFO - Train dataset: Counter({'d': 1500, 'c': 1500, 'b': 1500, 'a': 1500})\n",
      "2025-06-01 14:19:05,392 - MyriadLAMADataset - INFO - Valid dataset: Counter({'d': 250, 'a': 250, 'c': 250, 'b': 250})\n",
      "2025-06-01 14:19:05,398 - MyriadLAMADataset - INFO - Test dataset: Counter({'c': 250, 'b': 250, 'd': 250, 'a': 250})\n",
      "2025-06-01 14:19:05,408 - MyriadLAMADataset - INFO - Example of the processed prompts:\n",
      "### Instruction: Predict the [MASK] in the sentence from the options. Do not provide any additional information or explanation.\n",
      "\n",
      "### Question:Supah Ninjas premiered on the network [MASK].\n",
      "### Options:\n",
      "a.Nickelodeon\n",
      "b.WPBT\n",
      "c.NBC\n",
      "d.CBS\n",
      "### Answer:a\n",
      "\n",
      "### Question:Carl Friedrich Goerdeler has the position of [MASK].\n",
      "### Options:\n",
      "a.pope\n",
      "b.mayor\n",
      "c.bishop\n",
      "d.archbishop\n",
      "### Answer:b\n",
      "\n",
      "### Question:Quelli dell'intervallo was written in the [MASK] language.\n",
      "### Options:\n",
      "a.Telugu\n",
      "b.Korean\n",
      "c.Italian\n",
      "d.Tamil\n",
      "### Answer:c\n",
      "\n",
      "### Question:NFL Matchup was originally aired on [MASK].\n",
      "### Options:\n",
      "a.History\n",
      "b.NBC\n",
      "c.CBS\n",
      "d.ESPN\n",
      "### Answer:d\n",
      "\n",
      "### Question:What is the native language of Bernard Tapie? [MASK].\n",
      "### Options:\n",
      "a.Dutch\n",
      "b.Telugu\n",
      "c.Russian\n",
      "d.French\n",
      "### Answer:\n",
      "\n"
     ]
    }
   ],
   "source": [
    "from NeuronProbe.datasets import MyriadLAMADataset\n",
    "\n",
    "ds = MyriadLAMADataset(recache=True)"
   ]
  },
  {
   "cell_type": "code",
   "execution_count": null,
   "metadata": {},
   "outputs": [],
   "source": [
    "\n"
   ]
  }
 ],
 "metadata": {
  "kernelspec": {
   "display_name": "eval",
   "language": "python",
   "name": "python3"
  },
  "language_info": {
   "codemirror_mode": {
    "name": "ipython",
    "version": 3
   },
   "file_extension": ".py",
   "mimetype": "text/x-python",
   "name": "python",
   "nbconvert_exporter": "python",
   "pygments_lexer": "ipython3",
   "version": "3.10.12"
  }
 },
 "nbformat": 4,
 "nbformat_minor": 2
}
