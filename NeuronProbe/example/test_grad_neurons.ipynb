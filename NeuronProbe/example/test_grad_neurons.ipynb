{
 "cells": [
  {
   "cell_type": "code",
   "execution_count": 2,
   "metadata": {},
   "outputs": [
    {
     "name": "stderr",
     "output_type": "stream",
     "text": [
      "2025-06-01 14:26:22,455 - AgnewsDataset - INFO - Load dataset from /net/tokyo100-10g/data/str01_01/xzhao/linguistic_probing/datasets/agnews/0-shot/0-shot_no_sampling\n"
     ]
    }
   ],
   "source": [
    "from NeuronProbe import load_dataset\n",
    "from NeuronProbe.grad_neurons import SkillNeuronProbe\n",
    "\n",
    "dataset = load_dataset(\"agnews\", prompt_type='0-shot', recache=False, verbose=False)"
   ]
  },
  {
   "cell_type": "code",
   "execution_count": 3,
   "metadata": {},
   "outputs": [
    {
     "data": {
      "application/vnd.jupyter.widget-view+json": {
       "model_id": "ff22dd634997496fbc7e2ed8f69165f7",
       "version_major": 2,
       "version_minor": 0
      },
      "text/plain": [
       "Loading checkpoint shards:   0%|          | 0/2 [00:00<?, ?it/s]"
      ]
     },
     "metadata": {},
     "output_type": "display_data"
    }
   ],
   "source": [
    "probe = SkillNeuronProbe(\n",
    "    dataset=dataset, \n",
    "    model_name=\"llama3.2-3b-it\", \n",
    "    model_type=\"llama3\", \n",
    "    skip_model=False,\n",
    "    device=-2)"
   ]
  },
  {
   "cell_type": "code",
   "execution_count": 4,
   "metadata": {},
   "outputs": [
    {
     "name": "stderr",
     "output_type": "stream",
     "text": [
      "  0%|          | 0/125 [00:00<?, ?it/s]The attention mask is not set and cannot be inferred from input because pad token is same as eos token. As a consequence, you may observe unexpected behavior. Please pass your input's `attention_mask` to obtain reliable results.\n",
      "100%|██████████| 125/125 [10:22<00:00,  4.98s/it]\n",
      "100%|██████████| 125/125 [07:18<00:00,  3.51s/it]\n"
     ]
    }
   ],
   "source": [
    "train_gts, train_probs, train_probs, train_grads, train_acts = probe.load_neurons_ingradients(prompt_size=1000, split=\"train\", recache=True, batch_size=8)\n",
    "test_gts, test_probs, test_probs, test_grads, test_acts = probe.load_neurons_ingradients(prompt_size=1000, split=\"test\", recache=True, batch_size=8)"
   ]
  },
  {
   "cell_type": "code",
   "execution_count": 5,
   "metadata": {},
   "outputs": [
    {
     "name": "stderr",
     "output_type": "stream",
     "text": [
      "2025-06-01 14:45:41,400 - AgnewsDataset - INFO - ----------------Train set--------------------\n",
      "2025-06-01 14:45:41,402 - AgnewsDataset - INFO - Top Neuron distribution : Counter({6: 2, 9: 2, 2: 1, 3: 1, 7: 1, 4: 1, 21: 1, 13: 1})\n",
      "2025-06-01 14:45:41,405 - AgnewsDataset - INFO - Accuracy by output prob : 0.7350\n",
      "2025-06-01 14:45:41,408 - AgnewsDataset - INFO - Accuracy by skill neuron: 0.7550\n",
      "2025-06-01 14:45:41,410 - AgnewsDataset - INFO - Ground-Truth answer distri: Counter({2: 266, 1: 252, 0: 249, 3: 233})\n",
      "2025-06-01 14:45:41,412 - AgnewsDataset - INFO - Prob-based   answer distri: Counter({2: 465, 1: 253, 0: 216, 3: 66})\n",
      "2025-06-01 14:45:41,402 - AgnewsDataset - INFO - Top Neuron distribution : Counter({6: 2, 9: 2, 2: 1, 3: 1, 7: 1, 4: 1, 21: 1, 13: 1})\n",
      "2025-06-01 14:45:41,405 - AgnewsDataset - INFO - Accuracy by output prob : 0.7350\n",
      "2025-06-01 14:45:41,408 - AgnewsDataset - INFO - Accuracy by skill neuron: 0.7550\n",
      "2025-06-01 14:45:41,410 - AgnewsDataset - INFO - Ground-Truth answer distri: Counter({2: 266, 1: 252, 0: 249, 3: 233})\n",
      "2025-06-01 14:45:41,412 - AgnewsDataset - INFO - Prob-based   answer distri: Counter({2: 465, 1: 253, 0: 216, 3: 66})\n",
      "2025-06-01 14:45:41,414 - AgnewsDataset - INFO - Neuron-based answer distri: Counter({2: 429, 1: 252, 0: 245, 3: 74})\n",
      "2025-06-01 14:45:41,595 - AgnewsDataset - INFO - ----------------Test set--------------------\n",
      "2025-06-01 14:45:41,596 - AgnewsDataset - INFO - Accuracy by output prob : 0.7170\n",
      "2025-06-01 14:45:41,599 - AgnewsDataset - INFO - Accuracy by skill neuron: 0.7180\n",
      "2025-06-01 14:45:41,601 - AgnewsDataset - INFO - Ground-Truth answer distri: Counter({2: 250, 1: 250, 3: 250, 0: 250})\n",
      "2025-06-01 14:45:41,603 - AgnewsDataset - INFO - Prob-based   answer distri: Counter({2: 467, 1: 259, 0: 211, 3: 63})\n",
      "2025-06-01 14:45:41,605 - AgnewsDataset - INFO - Neuron-based answer distri: Counter({2: 438, 1: 252, 0: 243, 3: 67})\n"
     ]
    }
   ],
   "source": [
    "pred_idx, topk_neurons, neuron_polarity, neuron_thres = probe.get_skill_neurons(\n",
    "    gts=train_gts, probs=train_probs, grads=train_grads, acts=train_acts,\n",
    "    rank_by=\"grad_polar\", score_type=\"grad\", topk=10, use_neg=True)\n",
    "\n",
    "test_pred_idx = probe.test_skill_neurons(\n",
    "    gts=test_gts, probs=test_probs, grads=test_grads, acts=test_acts,\n",
    "    topk_neurons=topk_neurons, neuron_thres=neuron_thres, neuron_polarity=neuron_polarity,\n",
    "    rank_by=\"grad_polar\", score_type=\"grad\", roc_plot=False)"
   ]
  },
  {
   "cell_type": "code",
   "execution_count": 6,
   "metadata": {},
   "outputs": [
    {
     "name": "stderr",
     "output_type": "stream",
     "text": [
      "2025-06-01 14:45:48,766 - AgnewsDataset - INFO - ----------------Train set--------------------\n",
      "2025-06-01 14:45:48,767 - AgnewsDataset - INFO - Top Neuron distribution : Counter({7: 2, 25: 1, 27: 1, 8: 1, 24: 1, 15: 1, 4: 1, 12: 1, 1: 1})\n",
      "2025-06-01 14:45:48,769 - AgnewsDataset - INFO - Accuracy by output prob : 0.7350\n",
      "2025-06-01 14:45:48,771 - AgnewsDataset - INFO - Accuracy by skill neuron: 0.7600\n",
      "2025-06-01 14:45:48,773 - AgnewsDataset - INFO - Ground-Truth answer distri: Counter({2: 266, 1: 252, 0: 249, 3: 233})\n",
      "2025-06-01 14:45:48,775 - AgnewsDataset - INFO - Prob-based   answer distri: Counter({2: 465, 1: 253, 0: 216, 3: 66})\n",
      "2025-06-01 14:45:48,778 - AgnewsDataset - INFO - Neuron-based answer distri: Counter({2: 428, 1: 252, 0: 231, 3: 89})\n",
      "2025-06-01 14:45:48,767 - AgnewsDataset - INFO - Top Neuron distribution : Counter({7: 2, 25: 1, 27: 1, 8: 1, 24: 1, 15: 1, 4: 1, 12: 1, 1: 1})\n",
      "2025-06-01 14:45:48,769 - AgnewsDataset - INFO - Accuracy by output prob : 0.7350\n",
      "2025-06-01 14:45:48,771 - AgnewsDataset - INFO - Accuracy by skill neuron: 0.7600\n",
      "2025-06-01 14:45:48,773 - AgnewsDataset - INFO - Ground-Truth answer distri: Counter({2: 266, 1: 252, 0: 249, 3: 233})\n",
      "2025-06-01 14:45:48,775 - AgnewsDataset - INFO - Prob-based   answer distri: Counter({2: 465, 1: 253, 0: 216, 3: 66})\n",
      "2025-06-01 14:45:48,778 - AgnewsDataset - INFO - Neuron-based answer distri: Counter({2: 428, 1: 252, 0: 231, 3: 89})\n",
      "2025-06-01 14:45:48,781 - AgnewsDataset - INFO - ----------------Test set--------------------\n",
      "2025-06-01 14:45:48,782 - AgnewsDataset - INFO - Accuracy by output prob : 0.7170\n",
      "2025-06-01 14:45:48,784 - AgnewsDataset - INFO - Accuracy by skill neuron: 0.7220\n",
      "2025-06-01 14:45:48,786 - AgnewsDataset - INFO - Ground-Truth answer distri: Counter({2: 250, 1: 250, 3: 250, 0: 250})\n",
      "2025-06-01 14:45:48,789 - AgnewsDataset - INFO - Prob-based   answer distri: Counter({2: 467, 1: 259, 0: 211, 3: 63})\n",
      "2025-06-01 14:45:48,791 - AgnewsDataset - INFO - Neuron-based answer distri: Counter({2: 440, 1: 254, 0: 226, 3: 80})\n"
     ]
    }
   ],
   "source": [
    "pred_idx, topk_neurons, neuron_polarity, neuron_thres = probe.get_skill_neurons(\n",
    "    gts=train_gts, probs=train_probs, grads=train_grads, acts=train_acts,\n",
    "    rank_by=\"grad_value\", score_type=\"grad\", topk=10, use_neg=True)\n",
    "\n",
    "test_pred_idx = probe.test_skill_neurons(\n",
    "    gts=test_gts, probs=test_probs, grads=test_grads, acts=test_acts,\n",
    "    topk_neurons=topk_neurons, neuron_thres=neuron_thres, neuron_polarity=neuron_polarity,\n",
    "    rank_by=\"grad_value\", score_type=\"grad\", roc_plot=False)"
   ]
  },
  {
   "cell_type": "code",
   "execution_count": 7,
   "metadata": {},
   "outputs": [
    {
     "name": "stderr",
     "output_type": "stream",
     "text": [
      "2025-06-01 14:45:51,588 - AgnewsDataset - INFO - ----------------Train set--------------------\n",
      "2025-06-01 14:45:51,589 - AgnewsDataset - INFO - Top Neuron distribution : Counter({20: 5, 21: 2, 27: 2, 18: 2, 1: 2, 9: 2, 6: 2, 4: 1, 19: 1, 26: 1, 10: 1, 11: 1, 0: 1, 8: 1, 5: 1, 22: 1, 14: 1, 15: 1, 24: 1, 12: 1})\n",
      "2025-06-01 14:45:51,592 - AgnewsDataset - INFO - Accuracy by output prob : 0.7350\n",
      "2025-06-01 14:45:51,594 - AgnewsDataset - INFO - Accuracy by skill neuron: 0.8400\n",
      "2025-06-01 14:45:51,596 - AgnewsDataset - INFO - Ground-Truth answer distri: Counter({2: 266, 1: 252, 0: 249, 3: 233})\n",
      "2025-06-01 14:45:51,598 - AgnewsDataset - INFO - Prob-based   answer distri: Counter({2: 465, 1: 253, 0: 216, 3: 66})\n",
      "2025-06-01 14:45:51,589 - AgnewsDataset - INFO - Top Neuron distribution : Counter({20: 5, 21: 2, 27: 2, 18: 2, 1: 2, 9: 2, 6: 2, 4: 1, 19: 1, 26: 1, 10: 1, 11: 1, 0: 1, 8: 1, 5: 1, 22: 1, 14: 1, 15: 1, 24: 1, 12: 1})\n",
      "2025-06-01 14:45:51,592 - AgnewsDataset - INFO - Accuracy by output prob : 0.7350\n",
      "2025-06-01 14:45:51,594 - AgnewsDataset - INFO - Accuracy by skill neuron: 0.8400\n",
      "2025-06-01 14:45:51,596 - AgnewsDataset - INFO - Ground-Truth answer distri: Counter({2: 266, 1: 252, 0: 249, 3: 233})\n",
      "2025-06-01 14:45:51,598 - AgnewsDataset - INFO - Prob-based   answer distri: Counter({2: 465, 1: 253, 0: 216, 3: 66})\n",
      "2025-06-01 14:45:51,600 - AgnewsDataset - INFO - Neuron-based answer distri: Counter({2: 325, 1: 293, 0: 204, 3: 178})\n",
      "2025-06-01 14:45:51,625 - AgnewsDataset - INFO - ----------------Test set--------------------\n",
      "2025-06-01 14:45:51,626 - AgnewsDataset - INFO - Accuracy by output prob : 0.7170\n",
      "2025-06-01 14:45:51,629 - AgnewsDataset - INFO - Accuracy by skill neuron: 0.7980\n",
      "2025-06-01 14:45:51,632 - AgnewsDataset - INFO - Ground-Truth answer distri: Counter({2: 250, 1: 250, 3: 250, 0: 250})\n",
      "2025-06-01 14:45:51,634 - AgnewsDataset - INFO - Prob-based   answer distri: Counter({2: 467, 1: 259, 0: 211, 3: 63})\n",
      "2025-06-01 14:45:51,636 - AgnewsDataset - INFO - Neuron-based answer distri: Counter({2: 284, 1: 257, 0: 239, 3: 220})\n"
     ]
    }
   ],
   "source": [
    "pred_idx, topk_neurons, neuron_polarity, neuron_thres = probe.get_skill_neurons(\n",
    "    gts=train_gts, probs=train_probs, grads=train_grads, acts=train_acts,\n",
    "    rank_by=\"act_value\", score_type=\"act\", topk=10, use_neg=True)\n",
    "\n",
    "test_pred_idx = probe.test_skill_neurons(\n",
    "    gts=test_gts, probs=test_probs, grads=test_grads, acts=test_acts,\n",
    "    topk_neurons=topk_neurons, neuron_thres=neuron_thres, neuron_polarity=neuron_polarity,\n",
    "    rank_by=\"act_value\", score_type=\"act\", roc_plot=False)"
   ]
  },
  {
   "cell_type": "code",
   "execution_count": 9,
   "metadata": {},
   "outputs": [
    {
     "name": "stderr",
     "output_type": "stream",
     "text": [
      "2025-06-01 14:48:09,384 - AgnewsDataset - INFO - Loading dtree from cache /net/tokyo100-10g/data/str01_01/xzhao/linguistic_probing/grad_neurons/llama3.2-3b-it/agnews/0-shot/0-shot_no_sampling/dtree_grads_100.pkl\n",
      "2025-06-01 14:48:09,389 - AgnewsDataset - INFO - Predicting using dtree\n",
      "2025-06-01 14:48:09,389 - AgnewsDataset - INFO - Predicting using dtree\n",
      "2025-06-01 14:48:09,779 - AgnewsDataset - INFO - ----------------Train set using gradients--------------------\n",
      "2025-06-01 14:48:09,781 - AgnewsDataset - INFO - Accuracy by output prob : 0.7350\n",
      "2025-06-01 14:48:09,783 - AgnewsDataset - INFO - Accuracy by full random-forest: 1.0\n",
      "2025-06-01 14:48:44,672 - AgnewsDataset - INFO - ----------------Test set using gradients--------------------\n",
      "2025-06-01 14:48:44,675 - AgnewsDataset - INFO - Accuracy by output prob : 0.7170\n",
      "2025-06-01 14:48:44,677 - AgnewsDataset - INFO - Accuracy by random-forest: 0.801\n"
     ]
    }
   ],
   "source": [
    "rf, import_indexes = probe.get_skill_randomforest(\n",
    "    gts=train_gts, probs=train_probs, grads=train_grads, acts=train_acts, use_act=False)\n",
    "\n",
    "test_pred_idx = probe.test_skill_randomforest(\n",
    "    rf=rf, import_indexes=None, use_act=False,\n",
    "    gts=test_gts, probs=test_probs, grads=test_grads, acts=test_acts)"
   ]
  }
 ],
 "metadata": {
  "kernelspec": {
   "display_name": "eval",
   "language": "python",
   "name": "python3"
  },
  "language_info": {
   "codemirror_mode": {
    "name": "ipython",
    "version": 3
   },
   "file_extension": ".py",
   "mimetype": "text/x-python",
   "name": "python",
   "nbconvert_exporter": "python",
   "pygments_lexer": "ipython3",
   "version": "3.10.12"
  }
 },
 "nbformat": 4,
 "nbformat_minor": 2
}
